{
  "cells": [
    {
      "cell_type": "code",
      "execution_count": 17,
      "metadata": {
        "id": "PSOVkYkKfUzB"
      },
      "outputs": [],
      "source": [
        "from keras.models import Sequential\n",
        "from keras.layers import Conv2D, MaxPooling2D, Flatten, Dense, Dropout, BatchNormalization\n",
        "from sklearn.preprocessing import OneHotEncoder \n",
        "from tqdm import tqdm\n",
        "from keras import layers\n",
        "import matplotlib.pyplot as plt\n",
        "import cv2\n",
        "import numpy as np\n",
        "import os\n",
        "import random"
      ]
    },
    {
      "cell_type": "code",
      "execution_count": 18,
      "metadata": {
        "colab": {
          "base_uri": "https://localhost:8080/"
        },
        "id": "-9PeD-7yiWHW",
        "outputId": "9c3b4952-b410-4fac-d256-4980de5c6c2c"
      },
      "outputs": [
        {
          "output_type": "stream",
          "name": "stdout",
          "text": [
            "Drive already mounted at /content/gdrive; to attempt to forcibly remount, call drive.mount(\"/content/gdrive\", force_remount=True).\n"
          ]
        }
      ],
      "source": [
        "from google.colab import drive\n",
        "\n",
        "drive.mount('/content/gdrive')"
      ]
    },
    {
      "cell_type": "code",
      "execution_count": 19,
      "metadata": {
        "id": "eWMED8kCg8PO"
      },
      "outputs": [],
      "source": [
        "BASE_PATH = '/content/gdrive/MyDrive/Colab Notebooks/Brain Tumor Classification/'\n",
        "\n",
        "AUGMENTED_TRAIN_PATH = BASE_PATH + 'augmented_dataset/train/'\n",
        "\n",
        "AUGMENTED_VALIDATION_PATH = BASE_PATH + 'augmented_dataset/validation/'\n",
        "\n",
        "AUGMENTED_TEST_PATH = BASE_PATH + 'augmented_dataset/test/'\n",
        "\n",
        "TARGET_IMAGE_SIZE = (224, 224)"
      ]
    },
    {
      "cell_type": "code",
      "execution_count": 20,
      "metadata": {
        "id": "btmmKsKbg5I-"
      },
      "outputs": [],
      "source": [
        "def read_dataset(path):\n",
        "    dataset = []\n",
        "    for feature_class in tqdm(os.listdir(path)):\n",
        "      if not feature_class.startswith(\".\"):\n",
        "          feature_class_path = path + feature_class\n",
        "          for (i, file_name) in enumerate(os.listdir(feature_class_path)):\n",
        "              file_path = feature_class_path + '/' + file_name\n",
        "              image = cv2.imread(file_path)\n",
        "              image_and_class = (image, feature_class)\n",
        "              dataset.append(image_and_class)\n",
        "    return dataset"
      ]
    },
    {
      "cell_type": "code",
      "execution_count": 21,
      "metadata": {
        "colab": {
          "base_uri": "https://localhost:8080/"
        },
        "id": "P-QQ6fHOhqgq",
        "outputId": "805be3e3-4266-4246-f573-451a27e57661"
      },
      "outputs": [
        {
          "output_type": "stream",
          "name": "stderr",
          "text": [
            "100%|██████████| 2/2 [00:05<00:00,  2.95s/it]\n"
          ]
        }
      ],
      "source": [
        "training_dataset = read_dataset(AUGMENTED_TRAIN_PATH)\n",
        "random.shuffle(training_dataset)"
      ]
    },
    {
      "cell_type": "code",
      "execution_count": 22,
      "metadata": {
        "colab": {
          "base_uri": "https://localhost:8080/"
        },
        "id": "AwOmmW1Viq7t",
        "outputId": "713a11f0-69d0-496a-c2bc-dc40efc04297"
      },
      "outputs": [
        {
          "output_type": "stream",
          "name": "stderr",
          "text": [
            "100%|██████████| 2/2 [00:01<00:00,  1.29it/s]\n"
          ]
        }
      ],
      "source": [
        "validation_dataset = read_dataset(AUGMENTED_VALIDATION_PATH)\n",
        "random.shuffle(validation_dataset)"
      ]
    },
    {
      "cell_type": "code",
      "execution_count": 23,
      "metadata": {
        "colab": {
          "base_uri": "https://localhost:8080/"
        },
        "id": "a_kbtQz4irCX",
        "outputId": "a6d97a51-a966-4c95-9383-ed2c6b770e32"
      },
      "outputs": [
        {
          "output_type": "stream",
          "name": "stderr",
          "text": [
            "100%|██████████| 2/2 [00:01<00:00,  1.17it/s]\n"
          ]
        }
      ],
      "source": [
        "testing_dataset = read_dataset(AUGMENTED_TEST_PATH)\n",
        "random.shuffle(testing_dataset)"
      ]
    },
    {
      "cell_type": "code",
      "execution_count": 24,
      "metadata": {
        "id": "6_AZcMCxi1Eh"
      },
      "outputs": [],
      "source": [
        "def count_class_labels(dataset, dataset_type):\n",
        "    yes_count = 0\n",
        "    no_count = 0\n",
        "    for data in dataset:\n",
        "        label = data[1]\n",
        "        if label == 'yes':\n",
        "            yes_count = yes_count + 1\n",
        "        else:\n",
        "            no_count = no_count + 1\n",
        "    print(\"Number of YES labels in the {0} dataset are {1}\".format(dataset_type, yes_count))\n",
        "    print(\"Number of NO labels in the {0} dataset are {1}\".format(dataset_type, no_count))\n",
        "    print(\"---\")"
      ]
    },
    {
      "cell_type": "code",
      "execution_count": 25,
      "metadata": {
        "colab": {
          "base_uri": "https://localhost:8080/"
        },
        "id": "rKH5N9ZCjEJE",
        "outputId": "1b8bf3df-b517-4875-c73f-9b5991ef2ebe"
      },
      "outputs": [
        {
          "output_type": "stream",
          "name": "stdout",
          "text": [
            "Number of YES labels in the training dataset are 519\n",
            "Number of NO labels in the training dataset are 345\n",
            "---\n",
            "Number of YES labels in the validation dataset are 124\n",
            "Number of NO labels in the validation dataset are 60\n",
            "---\n",
            "Number of YES labels in the testing dataset are 104\n",
            "Number of NO labels in the testing dataset are 79\n",
            "---\n"
          ]
        }
      ],
      "source": [
        "count_class_labels(training_dataset, \"training\")\n",
        "count_class_labels(validation_dataset, \"validation\")\n",
        "count_class_labels(testing_dataset, \"testing\")"
      ]
    },
    {
      "cell_type": "code",
      "execution_count": 26,
      "metadata": {
        "colab": {
          "base_uri": "https://localhost:8080/",
          "height": 75
        },
        "id": "oQyA1WB6n0jW",
        "outputId": "7ba93326-3207-4e38-b7a7-bc173f4f7954"
      },
      "outputs": [
        {
          "output_type": "execute_result",
          "data": {
            "text/plain": [
              "OneHotEncoder()"
            ],
            "text/html": [
              "<style>#sk-container-id-2 {color: black;background-color: white;}#sk-container-id-2 pre{padding: 0;}#sk-container-id-2 div.sk-toggleable {background-color: white;}#sk-container-id-2 label.sk-toggleable__label {cursor: pointer;display: block;width: 100%;margin-bottom: 0;padding: 0.3em;box-sizing: border-box;text-align: center;}#sk-container-id-2 label.sk-toggleable__label-arrow:before {content: \"▸\";float: left;margin-right: 0.25em;color: #696969;}#sk-container-id-2 label.sk-toggleable__label-arrow:hover:before {color: black;}#sk-container-id-2 div.sk-estimator:hover label.sk-toggleable__label-arrow:before {color: black;}#sk-container-id-2 div.sk-toggleable__content {max-height: 0;max-width: 0;overflow: hidden;text-align: left;background-color: #f0f8ff;}#sk-container-id-2 div.sk-toggleable__content pre {margin: 0.2em;color: black;border-radius: 0.25em;background-color: #f0f8ff;}#sk-container-id-2 input.sk-toggleable__control:checked~div.sk-toggleable__content {max-height: 200px;max-width: 100%;overflow: auto;}#sk-container-id-2 input.sk-toggleable__control:checked~label.sk-toggleable__label-arrow:before {content: \"▾\";}#sk-container-id-2 div.sk-estimator input.sk-toggleable__control:checked~label.sk-toggleable__label {background-color: #d4ebff;}#sk-container-id-2 div.sk-label input.sk-toggleable__control:checked~label.sk-toggleable__label {background-color: #d4ebff;}#sk-container-id-2 input.sk-hidden--visually {border: 0;clip: rect(1px 1px 1px 1px);clip: rect(1px, 1px, 1px, 1px);height: 1px;margin: -1px;overflow: hidden;padding: 0;position: absolute;width: 1px;}#sk-container-id-2 div.sk-estimator {font-family: monospace;background-color: #f0f8ff;border: 1px dotted black;border-radius: 0.25em;box-sizing: border-box;margin-bottom: 0.5em;}#sk-container-id-2 div.sk-estimator:hover {background-color: #d4ebff;}#sk-container-id-2 div.sk-parallel-item::after {content: \"\";width: 100%;border-bottom: 1px solid gray;flex-grow: 1;}#sk-container-id-2 div.sk-label:hover label.sk-toggleable__label {background-color: #d4ebff;}#sk-container-id-2 div.sk-serial::before {content: \"\";position: absolute;border-left: 1px solid gray;box-sizing: border-box;top: 0;bottom: 0;left: 50%;z-index: 0;}#sk-container-id-2 div.sk-serial {display: flex;flex-direction: column;align-items: center;background-color: white;padding-right: 0.2em;padding-left: 0.2em;position: relative;}#sk-container-id-2 div.sk-item {position: relative;z-index: 1;}#sk-container-id-2 div.sk-parallel {display: flex;align-items: stretch;justify-content: center;background-color: white;position: relative;}#sk-container-id-2 div.sk-item::before, #sk-container-id-2 div.sk-parallel-item::before {content: \"\";position: absolute;border-left: 1px solid gray;box-sizing: border-box;top: 0;bottom: 0;left: 50%;z-index: -1;}#sk-container-id-2 div.sk-parallel-item {display: flex;flex-direction: column;z-index: 1;position: relative;background-color: white;}#sk-container-id-2 div.sk-parallel-item:first-child::after {align-self: flex-end;width: 50%;}#sk-container-id-2 div.sk-parallel-item:last-child::after {align-self: flex-start;width: 50%;}#sk-container-id-2 div.sk-parallel-item:only-child::after {width: 0;}#sk-container-id-2 div.sk-dashed-wrapped {border: 1px dashed gray;margin: 0 0.4em 0.5em 0.4em;box-sizing: border-box;padding-bottom: 0.4em;background-color: white;}#sk-container-id-2 div.sk-label label {font-family: monospace;font-weight: bold;display: inline-block;line-height: 1.2em;}#sk-container-id-2 div.sk-label-container {text-align: center;}#sk-container-id-2 div.sk-container {/* jupyter's `normalize.less` sets `[hidden] { display: none; }` but bootstrap.min.css set `[hidden] { display: none !important; }` so we also need the `!important` here to be able to override the default hidden behavior on the sphinx rendered scikit-learn.org. See: https://github.com/scikit-learn/scikit-learn/issues/21755 */display: inline-block !important;position: relative;}#sk-container-id-2 div.sk-text-repr-fallback {display: none;}</style><div id=\"sk-container-id-2\" class=\"sk-top-container\"><div class=\"sk-text-repr-fallback\"><pre>OneHotEncoder()</pre><b>In a Jupyter environment, please rerun this cell to show the HTML representation or trust the notebook. <br />On GitHub, the HTML representation is unable to render, please try loading this page with nbviewer.org.</b></div><div class=\"sk-container\" hidden><div class=\"sk-item\"><div class=\"sk-estimator sk-toggleable\"><input class=\"sk-toggleable__control sk-hidden--visually\" id=\"sk-estimator-id-2\" type=\"checkbox\" checked><label for=\"sk-estimator-id-2\" class=\"sk-toggleable__label sk-toggleable__label-arrow\">OneHotEncoder</label><div class=\"sk-toggleable__content\"><pre>OneHotEncoder()</pre></div></div></div></div></div>"
            ]
          },
          "metadata": {},
          "execution_count": 26
        }
      ],
      "source": [
        "encoder = OneHotEncoder()\n",
        "encoder.fit([[0], [1]]) "
      ]
    },
    {
      "cell_type": "code",
      "execution_count": 27,
      "metadata": {
        "id": "fyfohn6tjUXv"
      },
      "outputs": [],
      "source": [
        "def split_into_X_and_y(dataset):\n",
        "    X = []\n",
        "    y = []\n",
        "    for data in dataset:\n",
        "        X.append(data[0])\n",
        "        label = data[1]\n",
        "        if label == 'yes':\n",
        "            y.append(encoder.transform([[1]]).toarray())\n",
        "        elif label == 'no':\n",
        "            y.append(encoder.transform([[0]]).toarray())\n",
        "\n",
        "    return np.array(X), np.array(y).reshape(len(y), 2)"
      ]
    },
    {
      "cell_type": "code",
      "execution_count": 28,
      "metadata": {
        "id": "KMQoZ7iJjXFg"
      },
      "outputs": [],
      "source": [
        "X_train, y_train = split_into_X_and_y(training_dataset)\n",
        "X_validation, y_validation = split_into_X_and_y(validation_dataset)\n",
        "X_test, y_test = split_into_X_and_y(testing_dataset)"
      ]
    },
    {
      "cell_type": "code",
      "execution_count": 39,
      "metadata": {
        "id": "C-93PVeGgddE"
      },
      "outputs": [],
      "source": [
        "KERNEL_SIZE = (2, 2)\n",
        "STRIDES = (2, 2)\n",
        "ACTIVATION_FUNCTION_RELU = 'relu'\n",
        "PADDING_SAME = 'same'\n",
        "DROPOUT = 0.25\n",
        "\n",
        "model = Sequential()\n",
        "\n",
        "# Block 1\n",
        "model.add(Conv2D(32, kernel_size = KERNEL_SIZE, padding = PADDING_SAME, input_shape = (224, 224, 3)))\n",
        "model.add(Conv2D(32, kernel_size = KERNEL_SIZE,  activation = ACTIVATION_FUNCTION_RELU, padding = PADDING_SAME))\n",
        "model.add(BatchNormalization())\n",
        "model.add(MaxPooling2D(pool_size = (2, 2)))\n",
        "model.add(Dropout(DROPOUT))\n",
        "\n",
        "# Block 2\n",
        "model.add(Conv2D(64, kernel_size = KERNEL_SIZE, activation = ACTIVATION_FUNCTION_RELU, padding = PADDING_SAME))\n",
        "model.add(Conv2D(64, kernel_size = KERNEL_SIZE, activation = ACTIVATION_FUNCTION_RELU, padding = PADDING_SAME))\n",
        "model.add(BatchNormalization())\n",
        "model.add(MaxPooling2D(pool_size = KERNEL_SIZE, strides = STRIDES))\n",
        "model.add(Dropout(DROPOUT))\n",
        "\n",
        "# Block 3\n",
        "model.add(Conv2D(128, kernel_size = KERNEL_SIZE, activation = ACTIVATION_FUNCTION_RELU, padding = PADDING_SAME))\n",
        "model.add(Conv2D(128, kernel_size = KERNEL_SIZE, activation = ACTIVATION_FUNCTION_RELU, padding = PADDING_SAME))\n",
        "model.add(BatchNormalization())\n",
        "model.add(MaxPooling2D(pool_size = KERNEL_SIZE, strides = STRIDES))\n",
        "model.add(Dropout(DROPOUT))\n",
        "\n",
        "model.add(Flatten())\n",
        "\n",
        "model.add(Dense(512, activation = ACTIVATION_FUNCTION_RELU))\n",
        "model.add(Dropout(0.5))\n",
        "model.add(Dense(2, activation = 'softmax'))\n",
        "\n",
        "model.compile(loss = \"categorical_crossentropy\", optimizer = 'adam', metrics = ['accuracy'])"
      ]
    },
    {
      "cell_type": "code",
      "execution_count": 40,
      "metadata": {
        "colab": {
          "base_uri": "https://localhost:8080/"
        },
        "id": "zkdBiNdwtm2P",
        "outputId": "2fd3176f-e657-43d0-fdfd-1a53ed91555a"
      },
      "outputs": [
        {
          "output_type": "stream",
          "name": "stdout",
          "text": [
            "Model: \"sequential_4\"\n",
            "_________________________________________________________________\n",
            " Layer (type)                Output Shape              Param #   \n",
            "=================================================================\n",
            " conv2d_24 (Conv2D)          (None, 224, 224, 32)      416       \n",
            "                                                                 \n",
            " conv2d_25 (Conv2D)          (None, 224, 224, 32)      4128      \n",
            "                                                                 \n",
            " batch_normalization_12 (Bat  (None, 224, 224, 32)     128       \n",
            " chNormalization)                                                \n",
            "                                                                 \n",
            " max_pooling2d_12 (MaxPoolin  (None, 112, 112, 32)     0         \n",
            " g2D)                                                            \n",
            "                                                                 \n",
            " dropout_16 (Dropout)        (None, 112, 112, 32)      0         \n",
            "                                                                 \n",
            " conv2d_26 (Conv2D)          (None, 112, 112, 64)      8256      \n",
            "                                                                 \n",
            " conv2d_27 (Conv2D)          (None, 112, 112, 64)      16448     \n",
            "                                                                 \n",
            " batch_normalization_13 (Bat  (None, 112, 112, 64)     256       \n",
            " chNormalization)                                                \n",
            "                                                                 \n",
            " max_pooling2d_13 (MaxPoolin  (None, 56, 56, 64)       0         \n",
            " g2D)                                                            \n",
            "                                                                 \n",
            " dropout_17 (Dropout)        (None, 56, 56, 64)        0         \n",
            "                                                                 \n",
            " conv2d_28 (Conv2D)          (None, 56, 56, 128)       32896     \n",
            "                                                                 \n",
            " conv2d_29 (Conv2D)          (None, 56, 56, 128)       65664     \n",
            "                                                                 \n",
            " batch_normalization_14 (Bat  (None, 56, 56, 128)      512       \n",
            " chNormalization)                                                \n",
            "                                                                 \n",
            " max_pooling2d_14 (MaxPoolin  (None, 28, 28, 128)      0         \n",
            " g2D)                                                            \n",
            "                                                                 \n",
            " dropout_18 (Dropout)        (None, 28, 28, 128)       0         \n",
            "                                                                 \n",
            " flatten_4 (Flatten)         (None, 100352)            0         \n",
            "                                                                 \n",
            " dense_8 (Dense)             (None, 512)               51380736  \n",
            "                                                                 \n",
            " dropout_19 (Dropout)        (None, 512)               0         \n",
            "                                                                 \n",
            " dense_9 (Dense)             (None, 2)                 1026      \n",
            "                                                                 \n",
            "=================================================================\n",
            "Total params: 51,510,466\n",
            "Trainable params: 51,510,018\n",
            "Non-trainable params: 448\n",
            "_________________________________________________________________\n"
          ]
        }
      ],
      "source": [
        "model.summary()"
      ]
    },
    {
      "cell_type": "code",
      "execution_count": 41,
      "metadata": {
        "colab": {
          "base_uri": "https://localhost:8080/"
        },
        "id": "SzEHfEAsjdmd",
        "outputId": "d4ffe45c-97d8-4260-9af6-52bd6e0edae1"
      },
      "outputs": [
        {
          "output_type": "stream",
          "name": "stdout",
          "text": [
            "Epoch 1/5\n",
            "18/18 [==============================] - 240s 13s/step - loss: 24.1879 - accuracy: 0.6377 - val_loss: 10.7073 - val_accuracy: 0.6793\n",
            "Epoch 2/5\n",
            "18/18 [==============================] - 238s 13s/step - loss: 5.3883 - accuracy: 0.6539 - val_loss: 4.6722 - val_accuracy: 0.7446\n",
            "Epoch 3/5\n",
            "18/18 [==============================] - 238s 13s/step - loss: 2.2838 - accuracy: 0.7118 - val_loss: 5.3780 - val_accuracy: 0.7011\n",
            "Epoch 4/5\n",
            "18/18 [==============================] - 237s 13s/step - loss: 0.8764 - accuracy: 0.7465 - val_loss: 3.8675 - val_accuracy: 0.6793\n",
            "Epoch 5/5\n",
            "18/18 [==============================] - 238s 13s/step - loss: 0.5018 - accuracy: 0.7616 - val_loss: 2.9331 - val_accuracy: 0.6848\n"
          ]
        }
      ],
      "source": [
        "result = model.fit(X_train, y_train, epochs = 5, batch_size = 50, verbose = 1, validation_data = (X_validation, y_validation))"
      ]
    },
    {
      "cell_type": "code",
      "execution_count": 42,
      "metadata": {
        "id": "-2GpAYENwKkq",
        "colab": {
          "base_uri": "https://localhost:8080/"
        },
        "outputId": "f606104f-6825-418a-92df-d8e1218247cb"
      },
      "outputs": [
        {
          "output_type": "stream",
          "name": "stdout",
          "text": [
            "6/6 [==============================] - 12s 2s/step - loss: 1.3595 - accuracy: 0.7814\n"
          ]
        }
      ],
      "source": [
        "loss, accuracy = model.evaluate(X_test, y_test)"
      ]
    },
    {
      "cell_type": "code",
      "source": [
        "accuracy"
      ],
      "metadata": {
        "id": "3KwnPSCeSFnR",
        "colab": {
          "base_uri": "https://localhost:8080/"
        },
        "outputId": "1066d49f-ef6e-43c7-ac01-e5c748f12116"
      },
      "execution_count": 43,
      "outputs": [
        {
          "output_type": "execute_result",
          "data": {
            "text/plain": [
              "0.7814207673072815"
            ]
          },
          "metadata": {},
          "execution_count": 43
        }
      ]
    }
  ],
  "metadata": {
    "colab": {
      "provenance": []
    },
    "kernelspec": {
      "display_name": "Python 3",
      "name": "python3"
    },
    "language_info": {
      "name": "python"
    }
  },
  "nbformat": 4,
  "nbformat_minor": 0
}