{
  "nbformat": 4,
  "nbformat_minor": 0,
  "metadata": {
    "colab": {
      "provenance": []
    },
    "kernelspec": {
      "name": "python3",
      "display_name": "Python 3"
    },
    "language_info": {
      "name": "python"
    }
  },
  "cells": [
    {
      "cell_type": "code",
      "execution_count": null,
      "metadata": {
        "id": "XYSFi24_J173"
      },
      "outputs": [],
      "source": [
        "from PIL import Image\n",
        "from keras.layers import Conv2D, MaxPooling2D, Flatten, Dense, Dropout, BatchNormalization\n",
        "from keras.models import Sequential\n",
        "from keras.preprocessing.image import ImageDataGenerator\n",
        "from keras.applications.vgg16 import preprocess_input\n",
        "from tqdm import tqdm\n",
        "import keras\n",
        "import numpy as np\n",
        "import pandas as pd\n",
        "import cv2\n",
        "import imutils \n",
        "import os\n",
        "import random\n",
        "import math"
      ]
    },
    {
      "cell_type": "code",
      "source": [
        "from google.colab import drive\n",
        "\n",
        "drive.mount('/content/gdrive')"
      ],
      "metadata": {
        "colab": {
          "base_uri": "https://localhost:8080/"
        },
        "id": "y4vrZFt9Pb--",
        "outputId": "76c662ec-f5af-44cc-99b8-256743c30d47"
      },
      "execution_count": null,
      "outputs": [
        {
          "output_type": "stream",
          "name": "stdout",
          "text": [
            "Mounted at /content/gdrive\n"
          ]
        }
      ]
    },
    {
      "cell_type": "code",
      "source": [
        "BASE_PATH = '/content/gdrive/MyDrive/Colab Notebooks/Brain Tumor Classification/'\n",
        "PATH = BASE_PATH + 'original_dataset/'\n",
        "\n",
        "AUGMENTED_TRAIN_PATH_YES = BASE_PATH + 'augmented_dataset/train/yes/'\n",
        "AUGMENTED_TRAIN_PATH_NO = BASE_PATH + 'augmented_dataset/train/no/'\n",
        "\n",
        "AUGMENTED_VALIDATION_PATH_YES = BASE_PATH + 'augmented_dataset/validation/yes/'\n",
        "AUGMENTED_VALIDATION_PATH_NO = BASE_PATH + 'augmented_dataset/validation/no/'\n",
        "\n",
        "AUGMENTED_TEST_PATH_YES = BASE_PATH + 'augmented_dataset/test/yes/'\n",
        "AUGMENTED_TEST_PATH_NO = BASE_PATH + 'augmented_dataset/test/no/'\n",
        "\n",
        "TARGET_IMAGE_SIZE = (224, 224)"
      ],
      "metadata": {
        "id": "qkngNu54w7PT"
      },
      "execution_count": null,
      "outputs": []
    },
    {
      "cell_type": "code",
      "source": [
        "dataset = []"
      ],
      "metadata": {
        "id": "NSNjoSlhje2S"
      },
      "execution_count": null,
      "outputs": []
    },
    {
      "cell_type": "code",
      "source": [
        "for feature_class in tqdm(os.listdir(PATH)):\n",
        "  if not feature_class.startswith(\".\"):\n",
        "      feature_class_path = PATH + feature_class\n",
        "      for (i, file_name) in enumerate(os.listdir(feature_class_path)):\n",
        "          file_path = feature_class_path + '/' + file_name\n",
        "          image = cv2.imread(file_path)\n",
        "          image_and_class = (image, feature_class)\n",
        "          dataset.append(image_and_class)"
      ],
      "metadata": {
        "id": "4QUKCepuKueu",
        "colab": {
          "base_uri": "https://localhost:8080/"
        },
        "outputId": "5beec61c-32ca-4194-d825-b0a95c347e0b"
      },
      "execution_count": null,
      "outputs": [
        {
          "output_type": "stream",
          "name": "stderr",
          "text": [
            "100%|██████████| 2/2 [00:27<00:00, 13.94s/it]\n"
          ]
        }
      ]
    },
    {
      "cell_type": "code",
      "source": [
        "random.shuffle(dataset)"
      ],
      "metadata": {
        "id": "9eCneKv6nqkD"
      },
      "execution_count": null,
      "outputs": []
    },
    {
      "cell_type": "code",
      "source": [
        "TRAINING_SAMPLES_SIZE = 0.7\n",
        "VALIDATION_SAMPLES_SIZE = 0.15\n",
        "TESTING_SAMPLES_SIZE = 0.15"
      ],
      "metadata": {
        "id": "N-jq0TOHoqGv"
      },
      "execution_count": null,
      "outputs": []
    },
    {
      "cell_type": "code",
      "source": [
        "if (TRAINING_SAMPLES_SIZE + VALIDATION_SAMPLES_SIZE + TESTING_SAMPLES_SIZE) > 100:\n",
        "    raise ValueError"
      ],
      "metadata": {
        "id": "CnuvRfsX5dL2"
      },
      "execution_count": null,
      "outputs": []
    },
    {
      "cell_type": "code",
      "source": [
        "total_dataset_size = len(dataset)\n",
        "\n",
        "training_start_index = 0\n",
        "training_end_index = training_start_index + math.floor(total_dataset_size * TRAINING_SAMPLES_SIZE) \n",
        "\n",
        "validation_start_index = training_end_index\n",
        "validation_end_index = validation_start_index + math.floor(total_dataset_size * VALIDATION_SAMPLES_SIZE) \n",
        "\n",
        "testing_start_index = validation_end_index\n",
        "testing_end_index = testing_start_index + math.floor(total_dataset_size * TESTING_SAMPLES_SIZE)"
      ],
      "metadata": {
        "id": "Q8AAtqGU3jsj"
      },
      "execution_count": null,
      "outputs": []
    },
    {
      "cell_type": "code",
      "source": [
        "training_dataset = dataset[training_start_index:training_end_index]\n",
        "validation_dataset = dataset[validation_start_index:validation_end_index]\n",
        "testing_dataset = dataset[testing_start_index:testing_end_index]"
      ],
      "metadata": {
        "id": "MbxhzpJK9qpf"
      },
      "execution_count": null,
      "outputs": []
    },
    {
      "cell_type": "code",
      "source": [
        "def count_class_labels(dataset, dataset_type):\n",
        "    yes_count = 0\n",
        "    no_count = 0\n",
        "    for data in dataset:\n",
        "        label = data[1]\n",
        "        if label == 'yes':\n",
        "            yes_count = yes_count + 1\n",
        "        else:\n",
        "            no_count = no_count + 1\n",
        "    print(\"Number of YES labels in the {0} dataset are {1}\".format(dataset_type, yes_count))\n",
        "    print(\"Number of NO labels in the {0} dataset are {1}\".format(dataset_type, no_count))\n",
        "    print(\"---\")"
      ],
      "metadata": {
        "id": "p2t_0k6ZHoRo"
      },
      "execution_count": null,
      "outputs": []
    },
    {
      "cell_type": "code",
      "source": [
        "count_class_labels(training_dataset, \"training\")\n",
        "count_class_labels(validation_dataset, \"validation\")\n",
        "count_class_labels(testing_dataset, \"testing\")"
      ],
      "metadata": {
        "colab": {
          "base_uri": "https://localhost:8080/"
        },
        "id": "rxGrgHH8Iiaj",
        "outputId": "a8332ff7-43e2-4afc-b944-5368cf23dd47"
      },
      "execution_count": null,
      "outputs": [
        {
          "output_type": "stream",
          "name": "stdout",
          "text": [
            "Number of YES labels in the training dataset are 108\n",
            "Number of NO labels in the training dataset are 69\n",
            "---\n",
            "Number of YES labels in the validation dataset are 20\n",
            "Number of NO labels in the validation dataset are 17\n",
            "---\n",
            "Number of YES labels in the testing dataset are 26\n",
            "Number of NO labels in the testing dataset are 11\n",
            "---\n"
          ]
        }
      ]
    },
    {
      "cell_type": "code",
      "source": [
        "def reshape_image_array(image):\n",
        "    '''\n",
        "    Reshapes the image numpy array to make it four dimension since ImageDataGenerator requires a four dimensioned array\n",
        "    '''\n",
        "    return image.reshape((1,) + image.shape)"
      ],
      "metadata": {
        "id": "tgacCOpjXzZd"
      },
      "execution_count": null,
      "outputs": []
    },
    {
      "cell_type": "code",
      "source": [
        "def resize_image(image, target_image_size=TARGET_IMAGE_SIZE):\n",
        "    resized = cv2.resize(image, dsize=TARGET_IMAGE_SIZE, interpolation=cv2.INTER_CUBIC)\n",
        "    return resized"
      ],
      "metadata": {
        "id": "tG0kejCK3tKJ"
      },
      "execution_count": null,
      "outputs": []
    },
    {
      "cell_type": "code",
      "source": [
        "def split_yes_no_dataset(dataset):\n",
        "    yes = []\n",
        "    no = []\n",
        "    for data in tqdm(dataset):\n",
        "        label = data[1]\n",
        "        image = data[0]\n",
        "        resized = resize_image(image)\n",
        "        reshaped = reshape_image_array(resized)\n",
        "        if label == \"yes\":\n",
        "            yes.append(reshaped)\n",
        "        elif label == \"no\":\n",
        "            no.append(reshaped)\n",
        "    return yes, no"
      ],
      "metadata": {
        "id": "7HbOftmQwIcl"
      },
      "execution_count": null,
      "outputs": []
    },
    {
      "cell_type": "code",
      "source": [
        "training_yes_dataset, training_no_dataset = split_yes_no_dataset(training_dataset)"
      ],
      "metadata": {
        "colab": {
          "base_uri": "https://localhost:8080/"
        },
        "id": "yPTd8b5ewG23",
        "outputId": "a1e8d055-acd3-4bf8-f0aa-f9a8b4d515ff"
      },
      "execution_count": null,
      "outputs": [
        {
          "output_type": "stream",
          "name": "stderr",
          "text": [
            "100%|██████████| 177/177 [00:00<00:00, 974.25it/s]\n"
          ]
        }
      ]
    },
    {
      "cell_type": "code",
      "source": [
        "validation_yes_dataset, validation_no_dataset = split_yes_no_dataset(validation_dataset)"
      ],
      "metadata": {
        "colab": {
          "base_uri": "https://localhost:8080/"
        },
        "id": "eFi6f1NlwtQz",
        "outputId": "a415cf82-69c6-4109-9c9d-0d78371187b1"
      },
      "execution_count": null,
      "outputs": [
        {
          "output_type": "stream",
          "name": "stderr",
          "text": [
            "100%|██████████| 37/37 [00:00<00:00, 889.32it/s]\n"
          ]
        }
      ]
    },
    {
      "cell_type": "code",
      "source": [
        "testing_yes_dataset, testing_no_dataset = split_yes_no_dataset(testing_dataset)"
      ],
      "metadata": {
        "colab": {
          "base_uri": "https://localhost:8080/"
        },
        "id": "YK5wVMJ4w7YF",
        "outputId": "5761cea0-588d-497a-dd1d-77849d45f9b3"
      },
      "execution_count": null,
      "outputs": [
        {
          "output_type": "stream",
          "name": "stderr",
          "text": [
            "100%|██████████| 37/37 [00:00<00:00, 1224.76it/s]\n"
          ]
        }
      ]
    },
    {
      "cell_type": "code",
      "source": [
        "def augment_images(dataset, output_path):\n",
        "    if not os.path.exists(output_path):\n",
        "          os.makedirs(output_path)\n",
        "\n",
        "    datagen = ImageDataGenerator(\n",
        "        rotation_range=10,\n",
        "        width_shift_range=0.1,\n",
        "        height_shift_range=0.1,\n",
        "        shear_range=0.1,\n",
        "        zoom_range=0.1,\n",
        "        horizontal_flip=True,\n",
        "        vertical_flip=True,\n",
        "        preprocessing_function=preprocess_input\n",
        "    )\n",
        "    image_count = 0\n",
        "    for image in tqdm(dataset):\n",
        "        image_count = image_count + 1\n",
        "        generator = datagen.flow(\n",
        "            image,\n",
        "            save_to_dir=output_path\n",
        "            )\n",
        "        iteration = 0\n",
        "        for batch in generator:\n",
        "            iteration = iteration + 1\n",
        "            if iteration == 5:\n",
        "              break"
      ],
      "metadata": {
        "id": "l1bUqRBoYBOZ"
      },
      "execution_count": null,
      "outputs": []
    },
    {
      "cell_type": "code",
      "source": [
        "augment_images(dataset=training_yes_dataset, output_path=AUGMENTED_TRAIN_PATH_YES)"
      ],
      "metadata": {
        "colab": {
          "base_uri": "https://localhost:8080/"
        },
        "id": "NDmplAFqYBWP",
        "outputId": "f7379417-0566-4db5-9e79-14e964c2ca63"
      },
      "execution_count": null,
      "outputs": [
        {
          "output_type": "stream",
          "name": "stderr",
          "text": [
            "100%|██████████| 107/107 [00:23<00:00,  4.65it/s]\n"
          ]
        }
      ]
    },
    {
      "cell_type": "code",
      "source": [
        "augment_images(dataset=training_no_dataset, output_path=AUGMENTED_TRAIN_PATH_NO)"
      ],
      "metadata": {
        "colab": {
          "base_uri": "https://localhost:8080/"
        },
        "id": "ovB-YNy6YBZC",
        "outputId": "4a52dd3d-40c4-439a-92d3-d0d1ec1a8ce8"
      },
      "execution_count": null,
      "outputs": [
        {
          "output_type": "stream",
          "name": "stderr",
          "text": [
            "100%|██████████| 70/70 [00:14<00:00,  4.95it/s]\n"
          ]
        }
      ]
    },
    {
      "cell_type": "code",
      "source": [
        "augment_images(dataset=validation_yes_dataset, output_path=AUGMENTED_VALIDATION_PATH_YES)"
      ],
      "metadata": {
        "colab": {
          "base_uri": "https://localhost:8080/"
        },
        "id": "Nq-0n4SBYBbo",
        "outputId": "db1a1127-9ef5-4497-8c56-27b5e9864393"
      },
      "execution_count": null,
      "outputs": [
        {
          "output_type": "stream",
          "name": "stderr",
          "text": [
            "100%|██████████| 25/25 [00:05<00:00,  4.83it/s]\n"
          ]
        }
      ]
    },
    {
      "cell_type": "code",
      "source": [
        "augment_images(dataset=validation_no_dataset, output_path=AUGMENTED_VALIDATION_PATH_NO)"
      ],
      "metadata": {
        "colab": {
          "base_uri": "https://localhost:8080/"
        },
        "id": "OaKfh4nWYBeI",
        "outputId": "a4e6c0c9-425a-4720-c78d-a794dec11dc2"
      },
      "execution_count": null,
      "outputs": [
        {
          "output_type": "stream",
          "name": "stderr",
          "text": [
            "100%|██████████| 12/12 [00:02<00:00,  5.32it/s]\n"
          ]
        }
      ]
    },
    {
      "cell_type": "code",
      "source": [
        "augment_images(dataset=testing_yes_dataset, output_path=AUGMENTED_TEST_PATH_YES)"
      ],
      "metadata": {
        "colab": {
          "base_uri": "https://localhost:8080/"
        },
        "id": "6AXmlTgQYBgn",
        "outputId": "fbc9d6e3-3087-4c14-99e4-dd1f432157fe"
      },
      "execution_count": null,
      "outputs": [
        {
          "output_type": "stream",
          "name": "stderr",
          "text": [
            "100%|██████████| 21/21 [00:04<00:00,  4.71it/s]\n"
          ]
        }
      ]
    },
    {
      "cell_type": "code",
      "source": [
        "augment_images(dataset=testing_no_dataset, output_path=AUGMENTED_TEST_PATH_NO)"
      ],
      "metadata": {
        "colab": {
          "base_uri": "https://localhost:8080/"
        },
        "id": "6XkS61uVYBkv",
        "outputId": "f86561d7-e650-4ec5-fae8-eedfeefe6250"
      },
      "execution_count": null,
      "outputs": [
        {
          "output_type": "stream",
          "name": "stderr",
          "text": [
            "100%|██████████| 16/16 [00:03<00:00,  4.25it/s]\n"
          ]
        }
      ]
    }
  ]
}